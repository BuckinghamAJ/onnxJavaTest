{
 "cells": [
  {
   "cell_type": "code",
   "execution_count": 3,
   "id": "b27373d0-55ca-4f3a-9b09-89b0ad1839ca",
   "metadata": {},
   "outputs": [
    {
     "name": "stdout",
     "output_type": "stream",
     "text": [
      "Defaulting to user installation because normal site-packages is not writeable\n",
      "Collecting scikit-learn\n",
      "  Downloading scikit_learn-1.6.1-cp39-cp39-macosx_12_0_arm64.whl (11.1 MB)\n",
      "\u001b[K     |████████████████████████████████| 11.1 MB 3.2 MB/s eta 0:00:01\n",
      "\u001b[?25hCollecting skl2onnx\n",
      "  Downloading skl2onnx-1.19.1-py3-none-any.whl (315 kB)\n",
      "\u001b[K     |████████████████████████████████| 315 kB 16.5 MB/s eta 0:00:01\n",
      "\u001b[?25hCollecting onnxruntime\n",
      "  Downloading onnxruntime-1.19.2-cp39-cp39-macosx_11_0_universal2.whl (16.8 MB)\n",
      "\u001b[K     |████████████████████████████████| 16.8 MB 14.4 MB/s eta 0:00:01\n",
      "\u001b[?25hCollecting numpy>=1.19.5\n",
      "  Downloading numpy-2.0.2-cp39-cp39-macosx_14_0_arm64.whl (5.3 MB)\n",
      "\u001b[K     |████████████████████████████████| 5.3 MB 17.5 MB/s eta 0:00:01\n",
      "\u001b[?25hCollecting threadpoolctl>=3.1.0\n",
      "  Downloading threadpoolctl-3.6.0-py3-none-any.whl (18 kB)\n",
      "Collecting scipy>=1.6.0\n",
      "  Downloading scipy-1.13.1-cp39-cp39-macosx_12_0_arm64.whl (30.3 MB)\n",
      "\u001b[K     |████████████████████████████████| 30.3 MB 22.9 MB/s eta 0:00:01\n",
      "\u001b[?25hCollecting joblib>=1.2.0\n",
      "  Downloading joblib-1.5.1-py3-none-any.whl (307 kB)\n",
      "\u001b[K     |████████████████████████████████| 307 kB 16.3 MB/s eta 0:00:01\n",
      "\u001b[?25hCollecting onnx>=1.2.1\n",
      "  Downloading onnx-1.18.0-cp39-cp39-macosx_12_0_universal2.whl (18.3 MB)\n",
      "\u001b[K     |████████████████████████████████| 18.3 MB 15.0 MB/s eta 0:00:01\n",
      "\u001b[?25hCollecting coloredlogs\n",
      "  Downloading coloredlogs-15.0.1-py2.py3-none-any.whl (46 kB)\n",
      "\u001b[K     |████████████████████████████████| 46 kB 14.8 MB/s eta 0:00:01\n",
      "\u001b[?25hCollecting protobuf\n",
      "  Downloading protobuf-6.31.1-cp39-abi3-macosx_10_9_universal2.whl (425 kB)\n",
      "\u001b[K     |████████████████████████████████| 425 kB 13.2 MB/s eta 0:00:01\n",
      "\u001b[?25hCollecting flatbuffers\n",
      "  Downloading flatbuffers-25.2.10-py2.py3-none-any.whl (30 kB)\n",
      "Requirement already satisfied: packaging in /Users/adamjaybuckingham/Library/Python/3.9/lib/python/site-packages (from onnxruntime) (25.0)\n",
      "Collecting sympy\n",
      "  Downloading sympy-1.14.0-py3-none-any.whl (6.3 MB)\n",
      "\u001b[K     |████████████████████████████████| 6.3 MB 22.8 MB/s eta 0:00:01\n",
      "\u001b[?25hRequirement already satisfied: typing_extensions>=4.7.1 in /Users/adamjaybuckingham/Library/Python/3.9/lib/python/site-packages (from onnx>=1.2.1->skl2onnx) (4.14.1)\n",
      "Collecting humanfriendly>=9.1\n",
      "  Downloading humanfriendly-10.0-py2.py3-none-any.whl (86 kB)\n",
      "\u001b[K     |████████████████████████████████| 86 kB 16.3 MB/s eta 0:00:01\n",
      "\u001b[?25hCollecting mpmath<1.4,>=1.1.0\n",
      "  Downloading mpmath-1.3.0-py3-none-any.whl (536 kB)\n",
      "\u001b[K     |████████████████████████████████| 536 kB 18.0 MB/s eta 0:00:01\n",
      "\u001b[?25hInstalling collected packages: numpy, threadpoolctl, scipy, protobuf, mpmath, joblib, humanfriendly, sympy, scikit-learn, onnx, flatbuffers, coloredlogs, skl2onnx, onnxruntime\n",
      "Successfully installed coloredlogs-15.0.1 flatbuffers-25.2.10 humanfriendly-10.0 joblib-1.5.1 mpmath-1.3.0 numpy-2.0.2 onnx-1.18.0 onnxruntime-1.19.2 protobuf-6.31.1 scikit-learn-1.6.1 scipy-1.13.1 skl2onnx-1.19.1 sympy-1.14.0 threadpoolctl-3.6.0\n",
      "\u001b[33mWARNING: You are using pip version 21.2.4; however, version 25.1.1 is available.\n",
      "You should consider upgrading via the '/Library/Developer/CommandLineTools/usr/bin/python3 -m pip install --upgrade pip' command.\u001b[0m\n",
      "Note: you may need to restart the kernel to use updated packages.\n"
     ]
    }
   ],
   "source": [
    "%pip install scikit-learn skl2onnx onnxruntime"
   ]
  },
  {
   "cell_type": "code",
   "execution_count": 4,
   "id": "32d6b87d-46c4-4782-b98c-87a60a93051a",
   "metadata": {},
   "outputs": [],
   "source": [
    "import numpy as np\n",
    "from sklearn.datasets import make_classification, make_regression\n",
    "from sklearn.model_selection import train_test_split\n",
    "from sklearn.preprocessing import StandardScaler\n",
    "from sklearn.ensemble import RandomForestClassifier, GradientBoostingRegressor\n",
    "from sklearn.linear_model import LogisticRegression\n",
    "from sklearn.svm import SVC\n",
    "from sklearn.metrics import accuracy_score, mean_squared_error\n",
    "\n",
    "# ONNX conversion libraries\n",
    "from skl2onnx import convert_sklearn\n",
    "from skl2onnx.common.data_types import FloatTensorType\n",
    "import onnxruntime as ort\n",
    "import json"
   ]
  },
  {
   "cell_type": "markdown",
   "id": "2cfaed5f-a967-466e-9c42-80279f6bec61",
   "metadata": {},
   "source": [
    "## Classification Example"
   ]
  },
  {
   "cell_type": "code",
   "execution_count": 5,
   "id": "baf8a6c0-9eb0-47d3-93c7-fbe6e7311188",
   "metadata": {},
   "outputs": [
    {
     "name": "stdout",
     "output_type": "stream",
     "text": [
      "Random Forest accuracy: 0.8800\n"
     ]
    }
   ],
   "source": [
    "# Generate classification data\n",
    "X_class, y_class = make_classification(n_samples=1000, n_features=10, n_classes=2, random_state=42)\n",
    "X_train_class, X_test_class, y_train_class, y_test_class = train_test_split(\n",
    "    X_class, y_class, test_size=0.2, random_state=42\n",
    ")\n",
    "\n",
    "# Standardize features\n",
    "scaler_class = StandardScaler()\n",
    "X_train_scaled_class = scaler_class.fit_transform(X_train_class)\n",
    "X_test_scaled_class = scaler_class.transform(X_test_class)\n",
    "\n",
    "# Train Random Forest classifier\n",
    "rf_classifier = RandomForestClassifier(n_estimators=100, random_state=42)\n",
    "rf_classifier.fit(X_train_scaled_class, y_train_class)\n",
    "\n",
    "# Evaluate\n",
    "y_pred_class = rf_classifier.predict(X_test_scaled_class)\n",
    "accuracy = accuracy_score(y_test_class, y_pred_class)\n",
    "print(f\"Random Forest accuracy: {accuracy:.4f}\")\n",
    "\n",
    "# Convert to ONNX\n",
    "initial_type_class = [('float_input', FloatTensorType([None, 10]))]\n",
    "onnx_model_class = convert_sklearn(\n",
    "    rf_classifier, \n",
    "    initial_types=initial_type_class,\n",
    "    target_opset=11\n",
    ")"
   ]
  },
  {
   "cell_type": "code",
   "execution_count": 7,
   "id": "bb24128e-0aad-4897-982e-579e47db518a",
   "metadata": {},
   "outputs": [
    {
     "name": "stdout",
     "output_type": "stream",
     "text": [
      "Scikit-learn prediction: 0\n",
      "ONNX prediction: 0\n"
     ]
    }
   ],
   "source": [
    "# Save ONNX model\n",
    "with open(\"sklearn_classifier.onnx\", \"wb\") as f:\n",
    "    f.write(onnx_model_class.SerializeToString())\n",
    "\n",
    "# Test ONNX model\n",
    "ort_session_class = ort.InferenceSession(\"sklearn_classifier.onnx\")\n",
    "test_input_class = X_test_scaled_class[:1].astype(np.float32)\n",
    "ort_inputs_class = {ort_session_class.get_inputs()[0].name: test_input_class}\n",
    "ort_output_class = ort_session_class.run(None, ort_inputs_class)\n",
    "\n",
    "print(f\"Scikit-learn prediction: {rf_classifier.predict(test_input_class)[0]}\")\n",
    "print(f\"ONNX prediction: {ort_output_class[0][0]}\")\n"
   ]
  },
  {
   "cell_type": "code",
   "execution_count": 8,
   "id": "4a6fa061-9cd3-459e-8345-3dc302ef23b5",
   "metadata": {},
   "outputs": [],
   "source": [
    "# Save preprocessing parameters for all models\n",
    "preprocessing_params = {\n",
    "    'classifier': {\n",
    "        'scaler_mean': scaler_class.mean_.tolist(),\n",
    "        'scaler_scale': scaler_class.scale_.tolist(),\n",
    "        'input_features': 10,\n",
    "        'output_classes': 2,\n",
    "        'model_type': 'RandomForestClassifier'\n",
    "    },\n",
    "    'framework': 'scikit-learn'\n",
    "}\n",
    "\n",
    "with open('sklearn_preprocessing.json', 'w') as f:\n",
    "    json.dump(preprocessing_params, f)"
   ]
  },
  {
   "cell_type": "code",
   "execution_count": null,
   "id": "d0cdde7b-2b0b-41f6-9b26-cafe9036f52a",
   "metadata": {},
   "outputs": [],
   "source": []
  }
 ],
 "metadata": {
  "kernelspec": {
   "display_name": "Python 3 (ipykernel)",
   "language": "python",
   "name": "python3"
  },
  "language_info": {
   "codemirror_mode": {
    "name": "ipython",
    "version": 3
   },
   "file_extension": ".py",
   "mimetype": "text/x-python",
   "name": "python",
   "nbconvert_exporter": "python",
   "pygments_lexer": "ipython3",
   "version": "3.9.6"
  }
 },
 "nbformat": 4,
 "nbformat_minor": 5
}
